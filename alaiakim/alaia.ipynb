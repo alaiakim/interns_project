{
 "cells": [
  {
   "cell_type": "markdown",
   "metadata": {},
   "source": [
    "MATPLOTLIB 두둥"
   ]
  },
  {
   "cell_type": "markdown",
   "metadata": {},
   "source": [
    "파이썬에서 그래프를 그리는 도구.\n",
    "선 그래프, 막대그래프, 산점도(scatter plot), 히스토그램, 이미지표시 등"
   ]
  },
  {
   "cell_type": "markdown",
   "metadata": {},
   "source": [
    "예시"
   ]
  },
  {
   "cell_type": "code",
   "execution_count": null,
   "metadata": {},
   "outputs": [],
   "source": [
    "import matplotlib.pyplot as plt\n",
    "\n",
    "x = [1, 2, 3, 4]\n",
    "y = [2, 4, 6, 8]\n",
    "\n",
    "plt.plot(x, y)     \n",
    "plt.xlabel(\"X축\")\n",
    "plt.ylabel(\"Y축\")\n",
    "plt.title(\"간단한 그래프\")\n",
    "plt.show()\n"
   ]
  },
  {
   "cell_type": "markdown",
   "metadata": {},
   "source": [
    "MATPLOTLIB 함수 정리"
   ]
  },
  {
   "cell_type": "code",
   "execution_count": null,
   "metadata": {},
   "outputs": [],
   "source": [
    "plt.plot([1,2,3], [2,4,6])          # 선그래프\n",
    "\n",
    "plt.scatter([1,2,3], [2,4,6])       # 산점도\n",
    "\n",
    "plt.bar([\"A\",\"B\",\"C\"], [5,7,3])     # 막대그래프\n",
    "\n",
    "plt.hist(data, bins=10)             # 히스토그램\n",
    "\n",
    "plt.imshow(image_array)             # 이미지 표시\n",
    "\n",
    "plt.xlabel('X축 이름')  / plt.ylabel('Y축 이름')\n",
    "\n",
    "plt.title('그래프 제목')\n",
    "\n",
    "plt.legend(['실험1', '실험2'])        # 범례 표시\n",
    "\n",
    "plt.grid(True)                      # 격자 표시 여부\n",
    "\n",
    "plt.xlim(0, 10)                     # 축 범위 설정\n",
    "\n",
    "plt.savefig('plot.png')             # 그래프 저장\n",
    "\n",
    "plt.show()                          # 그래프를 화면에 표시"
   ]
  },
  {
   "cell_type": "markdown",
   "metadata": {},
   "source": [
    "plt.hist(data, bins=10)             # 판다스\n",
    "plt.imshow(image_array) # numpy array 사용\n"
   ]
  }
 ],
 "metadata": {
  "kernelspec": {
   "display_name": "Python 3",
   "language": "python",
   "name": "python3"
  },
  "language_info": {
   "name": "python",
   "version": "3.12.1"
  }
 },
 "nbformat": 4,
 "nbformat_minor": 2
}
