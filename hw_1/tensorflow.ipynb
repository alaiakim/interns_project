{
 "cells": [
  {
   "cell_type": "markdown",
   "id": "0daa54f6",
   "metadata": {},
   "source": [
    "# TensorFlow에 대하여"
   ]
  },
  {
   "cell_type": "markdown",
   "id": "07e88ef6",
   "metadata": {},
   "source": [
    "#### <span style='background-color:#fff5b1'><span style='color:indigo'>기본 Tensor 모듈</span>"
   ]
  },
  {
   "cell_type": "markdown",
   "id": "f5392d4e",
   "metadata": {},
   "source": [
    "##### Tensor를 생성해보아요"
   ]
  },
  {
   "cell_type": "code",
   "execution_count": null,
   "id": "28d76dd9",
   "metadata": {},
   "outputs": [],
   "source": [
    "tf.constant()\n",
    "\n",
    "tf.Variable()\n",
    "\n",
    "### 예시 코드\n",
    "x = tf.constant([[1, 2], [3, 4]], dtype=tf.float32)\n",
    "v = tf.Variable(tf.ones((2, 2)))\n",
    "\n",
    "### 출력 예시\n",
    "x: [[1. 2.]\n",
    "    [3. 4.]]\n",
    "v: [[1. 1.]\n",
    "    [1. 1.]]"
   ]
  },
  {
   "cell_type": "markdown",
   "id": "f8a58d57",
   "metadata": {},
   "source": [
    "##### 다른 자료형을 텐서로 변환"
   ]
  },
  {
   "cell_type": "code",
   "execution_count": null,
   "id": "5bc36a7b",
   "metadata": {},
   "outputs": [],
   "source": [
    "tf.convert_to_tensor()"
   ]
  },
  {
   "cell_type": "markdown",
   "id": "ee0f2cb9",
   "metadata": {},
   "source": [
    "##### 모양 변환"
   ]
  },
  {
   "cell_type": "code",
   "execution_count": null,
   "id": "abd9cb3b",
   "metadata": {},
   "outputs": [],
   "source": [
    "tf.reshape()\n",
    "\n",
    "tf.transpose()\n",
    "\n",
    "### 예시 코드\n",
    "y = tf.reshape(x, (4,))\n",
    "z = tf.cast(x, tf.int32)\n",
    "\n",
    "### 출력 예시\n",
    "y: [1. 2. 3. 4.]\n",
    "z: [1 2 3 4]"
   ]
  },
  {
   "cell_type": "markdown",
   "id": "f3f926e1",
   "metadata": {},
   "source": [
    "##### 자료형 변환"
   ]
  },
  {
   "cell_type": "code",
   "execution_count": null,
   "id": "86caa6a6",
   "metadata": {},
   "outputs": [],
   "source": [
    "tf.cast()"
   ]
  },
  {
   "cell_type": "markdown",
   "id": "56239d7a",
   "metadata": {},
   "source": [
    "##### 텐서 결합 및 분리"
   ]
  },
  {
   "cell_type": "code",
   "execution_count": null,
   "id": "c0153983",
   "metadata": {},
   "outputs": [],
   "source": [
    "tf.concat()\n",
    "\n",
    "tf.stack()\n",
    "\n",
    "tf.split()\n",
    "\n",
    "\n",
    "### 예시 코드\n",
    "a = tf.stack([y, y])\n",
    "b = tf.concat([a, a], axis=0)\n",
    "c1, c2 = tf.split(y, num_or_size_splits=2)\n",
    "\n",
    "### 출력 예시\n",
    "a:\n",
    "[[1. 2. 3. 4.]\n",
    " [1. 2. 3. 4.]]\n",
    "\n",
    "b:\n",
    "[[1. 2. 3. 4.]\n",
    " [1. 2. 3. 4.]\n",
    " [1. 2. 3. 4.]\n",
    " [1. 2. 3. 4.]]\n",
    "\n",
    "c1: [1. 2.]\n",
    "c2: [3. 4.]"
   ]
  },
  {
   "cell_type": "markdown",
   "id": "0be00e29",
   "metadata": {},
   "source": [
    "#### <span style='background-color:#fff5b1'><span style='color:indigo'>수학, 통계를 위한 연산 모듈</span>"
   ]
  },
  {
   "cell_type": "markdown",
   "id": "b51a850a",
   "metadata": {},
   "source": [
    "##### 연산 모듈"
   ]
  },
  {
   "cell_type": "code",
   "execution_count": null,
   "id": "f4fd4f6a",
   "metadata": {},
   "outputs": [],
   "source": [
    "t = tf.constant([[1., 2.], [3., 4.]])\n",
    "u = tf.constant([[5., 6.], [7., 8.]])\n",
    "\n",
    "s = tf.math.add(t, u)          \n",
    "# 덧셈\n",
    "\n",
    "m = tf.reduce_mean(t, axis=0)  \n",
    "# 열 평균\n",
    "\n",
    "mx = tf.reduce_max(t)          \n",
    "# 최댓값\n",
    "\n",
    "e = tf.math.exp(t)              \n",
    "# e^x\n",
    "\n",
    "l = tf.math.log(t)              \n",
    "# ln(x)\n",
    "\n",
    "matmul = tf.linalg.matmul(t, u) \n",
    "# 행렬곱\n",
    "\n",
    "det = tf.linalg.det(t)          \n",
    "# 행렬식"
   ]
  },
  {
   "cell_type": "markdown",
   "id": "f7133836",
   "metadata": {},
   "source": [
    "##### 출력 예시"
   ]
  },
  {
   "cell_type": "code",
   "execution_count": null,
   "id": "6cd4d5f7",
   "metadata": {},
   "outputs": [],
   "source": [
    "s: [[ 6.  8.]\n",
    "    [10. 12.]]\n",
    "m: [2. 3.]\n",
    "mx: 4.0\n",
    "e: [[ 2.7182817  7.389056 ]\n",
    "    [20.085537  54.59815  ]]\n",
    "l: [[0.        0.6931472]\n",
    "    [1.0986123 1.3862944]]\n",
    "matmul: [[19. 22.]\n",
    "         [43. 50.]]\n",
    "det: -2.0"
   ]
  },
  {
   "cell_type": "markdown",
   "id": "0773f8b0",
   "metadata": {},
   "source": [
    "#### <span style='background-color:#fff5b1'><span style='color:indigo'>데이터 처리 및 입출력</span>"
   ]
  },
  {
   "cell_type": "markdown",
   "id": "93704261",
   "metadata": {},
   "source": [
    "#### 모듈 설명"
   ]
  },
  {
   "cell_type": "code",
   "execution_count": null,
   "id": "79914e4c",
   "metadata": {},
   "outputs": [],
   "source": [
    "# tf.data\n",
    "def preprocess(x):\n",
    "    return x * 2\n",
    "\n",
    "ds = tf.data.Dataset.from_tensor_slices(tf.range(10))\n",
    "ds = ds.shuffle(10).map(preprocess).batch(4)\n",
    "\n",
    "print(\"첫 배치 예시:\")\n",
    "for batch in ds.take(1):\n",
    "    print(batch.numpy())\n",
    "\n",
    "# tf.io (직렬화/역직렬화)\n",
    "s = tf.constant(\"hello\")\n",
    "encoded = tf.io.serialize_tensor(s)\n",
    "decoded = tf.io.parse_tensor(encoded, out_type=tf.string)\n",
    "print(\"decoded:\", decoded.numpy().decode())\n",
    "\n",
    "# tf.image (임의 이미지 변환)\n",
    "img = tf.random.uniform((128, 128, 3))\n",
    "resized = tf.image.resize(img, (64, 64))\n",
    "flipped = tf.image.flip_left_right(resized)\n",
    "print(\"resized shape:\", resized.shape)\n",
    "print(\"flipped shape:\", flipped.shape)\n"
   ]
  },
  {
   "cell_type": "markdown",
   "id": "006fbadf",
   "metadata": {},
   "source": [
    "#### 예시 코드 답"
   ]
  },
  {
   "cell_type": "code",
   "execution_count": null,
   "id": "8dad7e18",
   "metadata": {},
   "outputs": [],
   "source": [
    "첫 배치 예시:\n",
    "[ 4 14  8  6]\n",
    "decoded: hello\n",
    "resized shape: (64, 64, 3)\n",
    "flipped shape: (64, 64, 3)\n"
   ]
  },
  {
   "cell_type": "markdown",
   "id": "90492aaf",
   "metadata": {},
   "source": [
    "#### <span style='background-color:#fff5b1'><span style='color:indigo'>데이터 처리 및 입출력</span>"
   ]
  },
  {
   "cell_type": "markdown",
   "id": "ea919288",
   "metadata": {},
   "source": [
    "##### 모듈 설명"
   ]
  },
  {
   "cell_type": "code",
   "execution_count": null,
   "id": "3a866332",
   "metadata": {},
   "outputs": [],
   "source": [
    "# 더미 데이터 생성\n",
    "X = tf.random.normal((200, 20))\n",
    "y = tf.cast(tf.reduce_sum(X, axis=1) > 0, tf.int32)\n",
    "\n",
    "# 모델 정의\n",
    "inp = tf.keras.Input(shape=(20,))\n",
    "h1 = tf.keras.layers.Dense(32, activation='relu')(inp)\n",
    "out = tf.keras.layers.Dense(1, activation='sigmoid')(h1)\n",
    "model = tf.keras.Model(inp, out)\n",
    "\n",
    "model.compile(optimizer='adam',\n",
    "                loss='binary_crossentropy',\n",
    "                metrics=['accuracy'])\n",
    "model.fit(X, y, epochs=3, batch_size=32, verbose=0)\n",
    "\n",
    "# 저장 후 로드\n",
    "model.save(\"demo_model.keras\")\n",
    "loaded = tf.keras.models.load_model(\"demo_model.keras\")\n",
    "print(\"Eval:\", loaded.evaluate(X, y, verbose=0))\n"
   ]
  },
  {
   "cell_type": "markdown",
   "id": "e91a4e6e",
   "metadata": {},
   "source": [
    "##### 예시 답안"
   ]
  },
  {
   "cell_type": "code",
   "execution_count": null,
   "id": "0f6e843a",
   "metadata": {},
   "outputs": [],
   "source": [
    "Eval: [0.6741139888763428, 0.60999995470047]"
   ]
  },
  {
   "cell_type": "markdown",
   "id": "07bdea3b",
   "metadata": {},
   "source": [
    "#### <span style='background-color:#fff5b1'><span style='color:indigo'>Numpy와 Tensorflow의 관계</span>"
   ]
  },
  {
   "cell_type": "markdown",
   "id": "233b2d14",
   "metadata": {},
   "source": [
    "##### numpy와 tensorflow는 호환되며, 상호 변환이 자동으로 일어날 수 있다."
   ]
  },
  {
   "cell_type": "code",
   "execution_count": null,
   "id": "bd002b61",
   "metadata": {},
   "outputs": [],
   "source": [
    "import numpy as np\n",
    "import tensorflow as tf\n",
    "\n",
    "# NumPy → TensorFlow\n",
    "np_arr = np.array([1, 2, 3])\n",
    "tf_tensor = tf.constant(np_arr)\n",
    "\n",
    "# TensorFlow → NumPy\n",
    "np_back = tf_tensor.numpy()\n",
    "print(\"NumPy to TensorFlow:\", tf_tensor)\n",
    "print(\"TensorFlow to NumPy:\", np_back)\n",
    "\n",
    "\n",
    "####출력 예시\n",
    "# NumPy to TensorFlow: tf.Tensor([1 2 3], shape=(3,), dtype=int64)\n",
    "# TensorFlow to NumPy: [1 2 3]\n"
   ]
  },
  {
   "cell_type": "markdown",
   "id": "5fee0876",
   "metadata": {},
   "source": [
    "##### Q. 왜 tensorflow를 출력할 때, 주로 '.numpy'를 사용할까?"
   ]
  },
  {
   "cell_type": "code",
   "execution_count": null,
   "id": "0cc9bf7d",
   "metadata": {},
   "outputs": [],
   "source": [
    "#출력 형식에 차이가 있기 때문이다.\n",
    "\n",
    "#Numpy : 값만 표시 \n",
    "#([1 2 3])\t\n",
    "\n",
    "#TensorFlow : 값 + shape + dtype 표시 \n",
    "#(tf.Tensor([1 2 3], shape=(3,), dtype=int64))"
   ]
  },
  {
   "cell_type": "markdown",
   "id": "5351dd58",
   "metadata": {},
   "source": [
    "##### 한 줄 정리"
   ]
  },
  {
   "cell_type": "code",
   "execution_count": null,
   "id": "782f79c1",
   "metadata": {},
   "outputs": [],
   "source": [
    "#데이터 만들기/간단 계산은 np, 가속·미분 필요한 계산은 tf"
   ]
  }
 ],
 "metadata": {
  "kernelspec": {
   "display_name": "base",
   "language": "python",
   "name": "python3"
  },
  "language_info": {
   "codemirror_mode": {
    "name": "ipython",
    "version": 3
   },
   "file_extension": ".py",
   "mimetype": "text/x-python",
   "name": "python",
   "nbconvert_exporter": "python",
   "pygments_lexer": "ipython3",
   "version": "3.12.4"
  }
 },
 "nbformat": 4,
 "nbformat_minor": 5
}
