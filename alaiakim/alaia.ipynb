{
 "cells": [
  {
   "cell_type": "markdown",
   "metadata": {},
   "source": [
    "MATPLOTLIB 두둥"
   ]
  },
  {
   "cell_type": "markdown",
   "metadata": {},
   "source": [
    "파이썬에서 그래프를 그리는 도구.\n",
    "선 그래프, 막대그래프, 산점도(scatter plot), 히스토그램, 이미지표시 등"
   ]
  },
  {
   "cell_type": "markdown",
   "metadata": {},
   "source": [
    "예시"
   ]
  },
  {
   "cell_type": "code",
   "execution_count": null,
   "metadata": {},
   "outputs": [],
   "source": [
    "import matplotlib.pyplot as plt\n",
    "\n",
    "x = [1, 2, 3, 4]\n",
    "y = [2, 4, 6, 8]\n",
    "\n",
    "plt.plot(x, y)     \n",
    "plt.xlabel(\"X축\")\n",
    "plt.ylabel(\"Y축\")\n",
    "plt.title(\"간단한 그래프\")\n",
    "plt.show()"
   ]
  },
  {
   "cell_type": "markdown",
   "metadata": {},
   "source": [
    "MATPLOTLIB 함수 정리"
   ]
  },
  {
   "cell_type": "code",
   "execution_count": null,
   "metadata": {},
   "outputs": [],
   "source": [
    "plt.plot([1,2,3], [2,4,6])\n",
    "plt.scatter([1,2,3], [2,4,6])\n",
    "plt.bar([\"A\",\"B\",\"C\"], [5,7,3])\n",
    "plt.hist(data, bins=10)  # pd??\n",
    "plt.imshow(image_array) # numpy array 사용\n",
    "plt.xlabel('X축')\n",
    "plt.ylabel('Y축')\n",
    "plt.title('그래프 이름')\n",
    "plt.legend(['실험1', '실험2'])\n",
    "plt.grid(True)\n",
    "plt.xlim(0, 10)\n",
    "plt.savefig('plot.png')\n",
    "plt.show()"
   ]
  }
 ],
 "metadata": {
  "kernelspec": {
   "display_name": "Python 3",
   "language": "python",
   "name": "python3"
  },
  "language_info": {
   "name": "python",
   "version": "3.12.1"
  }
 },
 "nbformat": 4,
 "nbformat_minor": 2
}
