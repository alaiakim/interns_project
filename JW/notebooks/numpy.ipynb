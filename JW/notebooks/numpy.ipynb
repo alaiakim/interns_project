{
 "cells": [
  {
   "cell_type": "markdown",
   "id": "21e42881",
   "metadata": {},
   "source": [
    "# NumPy\n",
    "\n",
    "빠른 연산 속도: NumPy는 내부적으로 C언어로 구현되어 있어 파이썬의 기본 리스트(List)에 비해 월등히 빠른 속도로 대규모 배열 연산을 처리할 수 있다.\n",
    "\n",
    "강력하고 편리한 기능: 다차원 배열을 생성하고 변형하는 것부터 시작해, 배열 전체에 적용되는 수학 함수, 통계 기능, 선형대수 연산 등 AI 개발에 필요한 거의 모든 종류의 수학적 도구를 제공한다.\n",
    "\n",
    "데이터 과학 생태계의 중심: Pandas(데이터 분석), Matplotlib(시각화), Scikit-learn(머신러닝), TensorFlow, PyTorch(딥러닝) 등 AI와 데이터 과학에 필수적인 대부분의 라이브러리들이 NumPy를 기반으로 만들어졌거나 NumPy 배열을 기본 데이터 구조로 사용한다.\n",
    "\n"
   ]
  },
  {
   "cell_type": "markdown",
   "id": "60518dcb",
   "metadata": {},
   "source": [
    "### ndarray\n",
    "##### 1. 일차원 배열 만들기"
   ]
  },
  {
   "cell_type": "code",
   "execution_count": null,
   "id": "6d4f4d63",
   "metadata": {},
   "outputs": [],
   "source": [
    "# 파이썬 리스트\n",
    "my_list = [1, 2, 3, 4, 5]\n",
    "\n",
    "# NumPy 배열로 변환\n",
    "my_array = np.array(my_list)\n",
    "\n",
    "print(my_array)\n",
    "# 출력: [1 2 3 4 5]  <- 쉼표(,)가 없는 것을 주목하세요!\n",
    "\n",
    "print(type(my_list))\n",
    "# 출력: <class 'list'>\n",
    "\n",
    "print(type(my_array))\n",
    "# 출력: <class 'numpy.ndarray'>"
   ]
  },
  {
   "cell_type": "markdown",
   "id": "eedfb161",
   "metadata": {},
   "source": [
    "- NumPy배열은 모든 원소가 동일한 자료형을 가져야함 -> 빠른 처리 속도\n",
    "\n",
    "\n",
    "##### 2. 이차원 배열 만들기"
   ]
  },
  {
   "cell_type": "code",
   "execution_count": null,
   "id": "0bca7fc4",
   "metadata": {},
   "outputs": [],
   "source": [
    "my_list2d = [[1, 2, 3], [4, 5, 6]]\n",
    "my_matrix = np.array(my_list2d)\n",
    "\n",
    "print(my_matrix)\n",
    "# 출력:\n",
    "# [[1 2 3]\n",
    "#  [4 5 6]]"
   ]
  },
  {
   "cell_type": "markdown",
   "id": "1ec9a3fc",
   "metadata": {},
   "source": [
    "##### 3. 배열의 정보 확인"
   ]
  },
  {
   "cell_type": "code",
   "execution_count": null,
   "id": "5d1b1b33",
   "metadata": {},
   "outputs": [],
   "source": [
    "print(f\"배열의 모양(shape): {my_matrix.shape}\")   # (2, 6) -> 2행 6열\n",
    "print(f\"배열의 차원(ndim): {my_matrix.ndim}\")     # 2 -> 2차원\n",
    "print(f\"데이터 타입(dtype): {my_matrix.dtype}\")   # int64 -> 64비트 정수"
   ]
  },
  {
   "cell_type": "markdown",
   "id": "31f3d2a7",
   "metadata": {},
   "source": [
    "- `shape` : 배열의 모양 (행, 열)\n",
    "- `ndim` : 배열의 차원 수\n",
    "- `dtype` : 배열 원소의 데이터 타입\n",
    "\n",
    "### 2. 인덱싱, 슬라이싱\n",
    "\n",
    "##### 인덱싱"
   ]
  },
  {
   "cell_type": "code",
   "execution_count": null,
   "id": "e0ddffee",
   "metadata": {},
   "outputs": [],
   "source": [
    "# 위에서 만든 2x3 행렬 my_matrix를 다시 사용\n",
    "# [[1 2 3]\n",
    "#  [4 5 6]]\n",
    "\n",
    "# 1행 2열의 데이터를 가져오기 (0부터 시작하므로 두 번째 행, 세 번째 열)\n",
    "element = my_matrix[1, 2]\n",
    "print(f\"1행 2열의 원소: {element}\")  # 출력: 6\n",
    "\n",
    "# 0행 전체를 가져오기\n",
    "row0 = my_matrix[0, :]  # : 는 '전체'를 의미\n",
    "print(f\"0행 전체: {row0}\") # 출력: [1 2 3]\n",
    "\n",
    "# 1열 전체를 가져오기\n",
    "col1 = my_matrix[:, 1]\n",
    "print(f\"1열 전체: {col1}\") # 출력: [2 5]"
   ]
  },
  {
   "cell_type": "markdown",
   "id": "cee8f00d",
   "metadata": {},
   "source": [
    "##### 불리언 인덱싱"
   ]
  },
  {
   "cell_type": "code",
   "execution_count": null,
   "id": "a8b3b7bc",
   "metadata": {},
   "outputs": [],
   "source": [
    "data = np.array([10, 25, 30, 15, 40])\n",
    "\n",
    "# data에서 20보다 큰 값만 찾아내기\n",
    "# 1. 조건을 검사하면 True/False로 구성된 배열이 나옵니다.\n",
    "condition = data > 20\n",
    "print(f\"조건 검사 결과: {condition}\")\n",
    "# 출력: [False  True  True False  True]\n",
    "\n",
    "# 2. 이 조건 배열을 인덱스 자리에 넣으면 True인 위치의 값만 추출됩니다.\n",
    "result = data[condition]\n",
    "print(f\"20보다 큰 값들: {result}\")\n",
    "# 출력: [25 30 40]\n",
    "\n",
    "# 한 줄로도 가능합니다.\n",
    "print(f\"한 줄로 처리: {data[data > 20]}\")"
   ]
  },
  {
   "cell_type": "markdown",
   "id": "248e66a6",
   "metadata": {},
   "source": [
    "-> 조건이 참(True)인 데이터만 골라내는 연산"
   ]
  },
  {
   "cell_type": "markdown",
   "id": "e9153c58",
   "metadata": {},
   "source": [
    "### 3. 배열 연산"
   ]
  },
  {
   "cell_type": "code",
   "execution_count": null,
   "id": "275924c7",
   "metadata": {},
   "outputs": [],
   "source": [
    "arr = np.array([1, 2, 3, 4, 5])\n",
    "\n",
    "# 배열의 모든 요소에 10 더하기\n",
    "print(f\"더하기: {arr + 10}\")\n",
    "# 출력: [11 12 13 14 15]\n",
    "\n",
    "# 배열의 모든 요소에 2 곱하기\n",
    "print(f\"곱하기: {arr * 2}\")\n",
    "# 출력: [ 2  4  6  8 10]\n",
    "\n",
    "# 배열 간의 연산도 가능합니다. (모양(shape)이 같아야 함)\n",
    "arr1 = np.array([1, 2, 3])\n",
    "arr2 = np.array([10, 20, 30])\n",
    "print(f\"배열 간 덧셈: {arr1 + arr2}\")\n",
    "# 출력: [11 22 33]"
   ]
  },
  {
   "cell_type": "markdown",
   "id": "8c0a45b1",
   "metadata": {},
   "source": [
    "##### 브로드캐스팅 (Broadcasting)"
   ]
  },
  {
   "cell_type": "code",
   "execution_count": null,
   "id": "4abdb3b5",
   "metadata": {},
   "outputs": [],
   "source": [
    "matrix = np.array([[1, 2, 3], [4, 5, 6]]) # 2x3 행렬\n",
    "vector = np.array([10, 20, 30])           # 1x3 벡터\n",
    "\n",
    "# 2x3 행렬의 각 행에 1x3 벡터를 더하기\n",
    "# NumPy는 vector를 아래와 같이 확장하여 연산합니다.\n",
    "# [[10, 20, 30],\n",
    "#  [10, 20, 30]]\n",
    "result = matrix + vector\n",
    "print(result)\n",
    "# 출력:\n",
    "# [[11 22 33]\n",
    "#  [14 25 36]]"
   ]
  },
  {
   "cell_type": "markdown",
   "id": "22ea1ed7",
   "metadata": {},
   "source": [
    "Numpy가 부족한 부분을 알아서 확장해서 채워줌"
   ]
  },
  {
   "cell_type": "markdown",
   "id": "7d99f255",
   "metadata": {},
   "source": [
    "---"
   ]
  },
  {
   "cell_type": "markdown",
   "id": "aa1d6e4c",
   "metadata": {},
   "source": [
    "### 배열 생성 함수들\n",
    "\n",
    "##### `arange` : 순서대로 증가하는 배열 생성"
   ]
  },
  {
   "cell_type": "code",
   "execution_count": null,
   "id": "ac6e4fec",
   "metadata": {},
   "outputs": [],
   "source": [
    "import numpy as np\n",
    "\n",
    "# 0부터 9까지 1씩 증가하는 배열 (10은 포함 안 됨)\n",
    "arr_arange = np.arange(10)\n",
    "print(f\"arange(10) -> {arr_arange}\")\n",
    "# 출력: arange(10) -> [0 1 2 3 4 5 6 7 8 9]\n",
    "\n",
    "# 1부터 10까지 2씩 증가하는 배열\n",
    "arr_arange_step = np.arange(1, 11, 2)\n",
    "print(f\"arange(1, 11, 2) -> {arr_arange_step}\")\n",
    "# 출력: arange(1, 11, 2) -> [1 3 5 7 9]"
   ]
  },
  {
   "cell_type": "markdown",
   "id": "a99b4e2a",
   "metadata": {},
   "source": [
    "##### `zeros`, `ones` : 0 또는 1로 가득찬 배열 생성\n",
    "-> AI 모델 가중치 초기화할때 사용"
   ]
  },
  {
   "cell_type": "code",
   "execution_count": null,
   "id": "61dd9ad0",
   "metadata": {},
   "outputs": [],
   "source": [
    "# 5개의 0으로 채워진 1차원 배열\n",
    "arr_zeros = np.zeros(5)\n",
    "print(f\"zeros(5) -> {arr_zeros}\")\n",
    "# 출력: zeros(5) -> [0. 0. 0. 0. 0.] (기본 데이터 타입은 float)\n",
    "\n",
    "# 2행 3열 크기의, 1로 가득 찬 2차원 배열(행렬)\n",
    "matrix_ones = np.ones((2, 3)) # 모양(shape)을 튜플로 전달\n",
    "print(\"ones((2, 3)) ->\\n\", matrix_ones)\n",
    "# 출력:\n",
    "# ones((2, 3)) ->\n",
    "#  [[1. 1. 1.]\n",
    "#  [1. 1. 1.]]"
   ]
  },
  {
   "cell_type": "markdown",
   "id": "49e86af7",
   "metadata": {},
   "source": [
    "### 배열 변형 함수\n",
    "##### `reshape` 차원과 모양 바꿈\n",
    "-> 배열의 전체 원소는 개수는 유지"
   ]
  },
  {
   "cell_type": "code",
   "execution_count": null,
   "id": "1bfb6ee6",
   "metadata": {},
   "outputs": [],
   "source": [
    "# 0부터 11까지의 숫자를 가진 1차원 배열 (원소 12개)\n",
    "arr = np.arange(12)\n",
    "print(\"원본 배열:\\n\", arr)\n",
    "# 출력: [ 0  1  2  3  4  5  6  7  8  9 10 11]\n",
    "\n",
    "# 이 배열을 3행 4열의 2차원 배열로 변신!\n",
    "matrix_3x4 = arr.reshape(3, 4)\n",
    "print(\"\\n3x4 행렬로 변신:\\n\", matrix_3x4)\n",
    "# 출력:\n",
    "# [[ 0  1  2  3]\n",
    "#  [ 4  5  6  7]\n",
    "#  [ 8  9 10 11]]\n",
    "\n",
    "# 이번엔 4행 3열의 2차원 배열로!\n",
    "matrix_4x3 = arr.reshape(4, 3)\n",
    "print(\"\\n4x3 행렬로 변신:\\n\", matrix_4x3)\n",
    "# 출력:\n",
    "# [[ 0  1  2]\n",
    "#  [ 3  4  5]\n",
    "#  [ 6  7  8]\n",
    "#  [ 9 10 11]]"
   ]
  },
  {
   "cell_type": "markdown",
   "id": "ff2d3a43",
   "metadata": {},
   "source": [
    "---"
   ]
  },
  {
   "cell_type": "markdown",
   "id": "f070cc50",
   "metadata": {},
   "source": [
    "### 배열 합치기\n",
    "##### `concatenate` : 배열 이어 붙이기\n",
    "##### `np.concatenate` : 여러 튜플()로 묶어 특정 축 기준으로 이어 붙임"
   ]
  },
  {
   "cell_type": "code",
   "execution_count": null,
   "id": "ee998f0b",
   "metadata": {},
   "outputs": [],
   "source": [
    "import numpy as np\n",
    "\n",
    "arr1 = np.array([[1, 2], [3, 4]])\n",
    "arr2 = np.array([[5, 6], [7, 8]])\n",
    "\n",
    "# axis=0: 행(세로) 방향으로 합치기 (기본값)\n",
    "# vstack(vertical stack)과 동일\n",
    "result_v = np.concatenate((arr1, arr2), axis=0)\n",
    "print(\"행 방향으로 합치기 (axis=0):\\n\", result_v)\n",
    "# 출력:\n",
    "# [[1 2]\n",
    "#  [3 4]\n",
    "#  [5 6]\n",
    "#  [7 8]]\n",
    "\n",
    "# axis=1: 열(가로) 방향으로 합치기\n",
    "# hstack(horizontal stack)과 동일\n",
    "result_h = np.concatenate((arr1, arr2), axis=1)\n",
    "print(\"\\n열 방향으로 합치기 (axis=1):\\n\", result_h)\n",
    "# 출력:\n",
    "# [[1 2 5 6]\n",
    "#  [3 4 7 8]]"
   ]
  }
 ],
 "metadata": {
  "kernelspec": {
   "display_name": "base",
   "language": "python",
   "name": "python3"
  },
  "language_info": {
   "codemirror_mode": {
    "name": "ipython",
    "version": 3
   },
   "file_extension": ".py",
   "mimetype": "text/x-python",
   "name": "python",
   "nbconvert_exporter": "python",
   "pygments_lexer": "ipython3",
   "version": "3.13.5"
  }
 },
 "nbformat": 4,
 "nbformat_minor": 5
}
