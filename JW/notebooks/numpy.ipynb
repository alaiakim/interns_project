{
 "cells": [
  {
   "cell_type": "markdown",
   "id": "21e42881",
   "metadata": {},
   "source": [
    "# NumPy\n",
    "\n",
    "빠른 연산 속도: NumPy는 내부적으로 C언어로 구현되어 있어 파이썬의 기본 리스트(List)에 비해 월등히 빠른 속도로 대규모 배열 연산을 처리할 수 있다.\n",
    "\n",
    "강력하고 편리한 기능: 다차원 배열을 생성하고 변형하는 것부터 시작해, 배열 전체에 적용되는 수학 함수, 통계 기능, 선형대수 연산 등 AI 개발에 필요한 거의 모든 종류의 수학적 도구를 제공한다.\n",
    "\n",
    "데이터 과학 생태계의 중심: Pandas(데이터 분석), Matplotlib(시각화), Scikit-learn(머신러닝), TensorFlow, PyTorch(딥러닝) 등 AI와 데이터 과학에 필수적인 대부분의 라이브러리들이 NumPy를 기반으로 만들어졌거나 NumPy 배열을 기본 데이터 구조로 사용한다.\n",
    "\n"
   ]
  },
  {
   "cell_type": "markdown",
   "id": "60518dcb",
   "metadata": {},
   "source": [
    "### ndarray\n",
    "##### 1. 일차원 배열 만들기"
   ]
  },
  {
   "cell_type": "code",
   "execution_count": null,
   "id": "6d4f4d63",
   "metadata": {},
   "outputs": [],
   "source": [
    "# 파이썬 리스트\n",
    "my_list = [1, 2, 3, 4, 5]\n",
    "\n",
    "# NumPy 배열로 변환\n",
    "my_array = np.array(my_list)\n",
    "\n",
    "print(my_array)\n",
    "# 출력: [1 2 3 4 5]  <- 쉼표(,)가 없는 것을 주목하세요!\n",
    "\n",
    "print(type(my_list))\n",
    "# 출력: <class 'list'>\n",
    "\n",
    "print(type(my_array))\n",
    "# 출력: <class 'numpy.ndarray'>"
   ]
  },
  {
   "cell_type": "markdown",
   "id": "eedfb161",
   "metadata": {},
   "source": [
    "- NumPy배열은 모든 원소가 동일한 자료형을 가져야함 -> 빠른 처리 속도\n",
    "\n",
    "\n",
    "##### 2. 이차원 배열 만들기"
   ]
  },
  {
   "cell_type": "code",
   "execution_count": null,
   "id": "0bca7fc4",
   "metadata": {},
   "outputs": [],
   "source": [
    "my_list2d = [[1, 2, 3], [4, 5, 6]]\n",
    "my_matrix = np.array(my_list2d)\n",
    "\n",
    "print(my_matrix)\n",
    "# 출력:\n",
    "# [[1 2 3]\n",
    "#  [4 5 6]]"
   ]
  },
  {
   "cell_type": "markdown",
   "id": "1ec9a3fc",
   "metadata": {},
   "source": [
    "##### 3. 배열의 정보 확인"
   ]
  },
  {
   "cell_type": "code",
   "execution_count": null,
   "id": "5d1b1b33",
   "metadata": {},
   "outputs": [],
   "source": [
    "print(f\"배열의 모양(shape): {my_matrix.shape}\")   # (2, 6) -> 2행 6열\n",
    "print(f\"배열의 차원(ndim): {my_matrix.ndim}\")     # 2 -> 2차원\n",
    "print(f\"데이터 타입(dtype): {my_matrix.dtype}\")   # int64 -> 64비트 정수"
   ]
  },
  {
   "cell_type": "markdown",
   "id": "31f3d2a7",
   "metadata": {},
   "source": [
    "- `shape` : 배열의 모양 (행, 열)\n",
    "- `ndim` : 배열의 차원 수\n",
    "- `dtype` : 배열 원소의 데이터 타입\n",
    "\n",
    "### 2. 인덱싱, 슬라이싱\n",
    "\n",
    "##### 인덱싱"
   ]
  },
  {
   "cell_type": "code",
   "execution_count": null,
   "id": "e0ddffee",
   "metadata": {},
   "outputs": [],
   "source": [
    "# 위에서 만든 2x3 행렬 my_matrix를 다시 사용\n",
    "# [[1 2 3]\n",
    "#  [4 5 6]]\n",
    "\n",
    "# 1행 2열의 데이터를 가져오기 (0부터 시작하므로 두 번째 행, 세 번째 열)\n",
    "element = my_matrix[1, 2]\n",
    "print(f\"1행 2열의 원소: {element}\")  # 출력: 6\n",
    "\n",
    "# 0행 전체를 가져오기\n",
    "row0 = my_matrix[0, :]  # : 는 '전체'를 의미\n",
    "print(f\"0행 전체: {row0}\") # 출력: [1 2 3]\n",
    "\n",
    "# 1열 전체를 가져오기\n",
    "col1 = my_matrix[:, 1]\n",
    "print(f\"1열 전체: {col1}\") # 출력: [2 5]"
   ]
  },
  {
   "cell_type": "markdown",
   "id": "cee8f00d",
   "metadata": {},
   "source": [
    "##### 불리언 인덱싱"
   ]
  },
  {
   "cell_type": "code",
   "execution_count": null,
   "id": "a8b3b7bc",
   "metadata": {},
   "outputs": [],
   "source": [
    "data = np.array([10, 25, 30, 15, 40])\n",
    "\n",
    "# data에서 20보다 큰 값만 찾아내기\n",
    "# 1. 조건을 검사하면 True/False로 구성된 배열이 나옵니다.\n",
    "condition = data > 20\n",
    "print(f\"조건 검사 결과: {condition}\")\n",
    "# 출력: [False  True  True False  True]\n",
    "\n",
    "# 2. 이 조건 배열을 인덱스 자리에 넣으면 True인 위치의 값만 추출됩니다.\n",
    "result = data[condition]\n",
    "print(f\"20보다 큰 값들: {result}\")\n",
    "# 출력: [25 30 40]\n",
    "\n",
    "# 한 줄로도 가능합니다.\n",
    "print(f\"한 줄로 처리: {data[data > 20]}\")"
   ]
  },
  {
   "cell_type": "markdown",
   "id": "248e66a6",
   "metadata": {},
   "source": [
    "-> 조건이 참(True)인 데이터만 골라내는 연산"
   ]
  },
  {
   "cell_type": "markdown",
   "id": "e9153c58",
   "metadata": {},
   "source": [
    "### 3. 배열 연산"
   ]
  },
  {
   "cell_type": "code",
   "execution_count": null,
   "id": "275924c7",
   "metadata": {},
   "outputs": [],
   "source": [
    "arr = np.array([1, 2, 3, 4, 5])\n",
    "\n",
    "# 배열의 모든 요소에 10 더하기\n",
    "print(f\"더하기: {arr + 10}\")\n",
    "# 출력: [11 12 13 14 15]\n",
    "\n",
    "# 배열의 모든 요소에 2 곱하기\n",
    "print(f\"곱하기: {arr * 2}\")\n",
    "# 출력: [ 2  4  6  8 10]\n",
    "\n",
    "# 배열 간의 연산도 가능합니다. (모양(shape)이 같아야 함)\n",
    "arr1 = np.array([1, 2, 3])\n",
    "arr2 = np.array([10, 20, 30])\n",
    "print(f\"배열 간 덧셈: {arr1 + arr2}\")\n",
    "# 출력: [11 22 33]"
   ]
  },
  {
   "cell_type": "markdown",
   "id": "8c0a45b1",
   "metadata": {},
   "source": [
    "##### 브로드캐스팅 (Broadcasting)"
   ]
  },
  {
   "cell_type": "code",
   "execution_count": null,
   "id": "4abdb3b5",
   "metadata": {},
   "outputs": [],
   "source": [
    "matrix = np.array([[1, 2, 3], [4, 5, 6]]) # 2x3 행렬\n",
    "vector = np.array([10, 20, 30])           # 1x3 벡터\n",
    "\n",
    "# 2x3 행렬의 각 행에 1x3 벡터를 더하기\n",
    "# NumPy는 vector를 아래와 같이 확장하여 연산합니다.\n",
    "# [[10, 20, 30],\n",
    "#  [10, 20, 30]]\n",
    "result = matrix + vector\n",
    "print(result)\n",
    "# 출력:\n",
    "# [[11 22 33]\n",
    "#  [14 25 36]]"
   ]
  },
  {
   "cell_type": "markdown",
   "id": "22ea1ed7",
   "metadata": {},
   "source": [
    "Numpy가 부족한 부분을 알아서 확장해서 채워줌"
   ]
  }
 ],
 "metadata": {
  "kernelspec": {
   "display_name": "base",
   "language": "python",
   "name": "python3"
  },
  "language_info": {
   "codemirror_mode": {
    "name": "ipython",
    "version": 3
   },
   "file_extension": ".py",
   "mimetype": "text/x-python",
   "name": "python",
   "nbconvert_exporter": "python",
   "pygments_lexer": "ipython3",
   "version": "3.13.5"
  }
 },
 "nbformat": 4,
 "nbformat_minor": 5
}
