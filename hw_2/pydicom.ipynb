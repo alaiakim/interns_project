{
 "cells": [
  {
   "cell_type": "markdown",
   "metadata": {},
   "source": [
    "# Pydicom\n",
    "\n",
    "### 의료 영상 파일인 DICOM(Digital Imaging and Communications in Medicine) 파일을 읽고, 수정하고, 저장할 수 있는 파이썬 라이브러리"
   ]
  },
  {
   "cell_type": "markdown",
   "metadata": {},
   "source": [
    "### 기능\n",
    "\n",
    "•\t.dcm 확장자를 가진 DICOM 파일을 파싱해서 내용을 파이썬 객체로 불러올 수 있음\n",
    "\n",
    "•\t메타데이터(예: 환자 이름, 검사 날짜, 병원 정보 등)를 읽거나 수정할 수 있음\n",
    "\n",
    "•\t이미지 데이터(PixelData)를 NumPy 배열로 변환 가능 → matplotlib, opencv 등으로 시각화 가능\n",
    "\n",
    "•\t수정한 내용을 다시 DICOM 파일로 저장 가능"
   ]
  },
  {
   "cell_type": "markdown",
   "metadata": {},
   "source": [
    "### 예시"
   ]
  },
  {
   "cell_type": "code",
   "execution_count": null,
   "metadata": {},
   "outputs": [],
   "source": [
    "import pydicom\n",
    "\n",
    "# DICOM 파일 불러오기\n",
    "ds = pydicom.dcmread(\"image.dcm\")\n",
    "\n",
    "# 환자 이름 출력\n",
    "print(ds.PatientName)\n",
    "\n",
    "# 이미지 데이터를 numpy array로 변환\n",
    "import matplotlib.pyplot as plt\n",
    "plt.imshow(ds.pixel_array, cmap='gray')\n",
    "plt.show()"
   ]
  }
 ],
 "metadata": {
  "language_info": {
   "name": "python"
  }
 },
 "nbformat": 4,
 "nbformat_minor": 2
}
