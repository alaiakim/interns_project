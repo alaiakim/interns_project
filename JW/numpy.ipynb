{
 "cells": [
  {
   "cell_type": "code",
   "execution_count": null,
   "id": "bdd83c29",
   "metadata": {
    "vscode": {
     "languageId": "plaintext"
    }
   },
   "outputs": [],
   "source": [
    "asdf\n"
   ]
  },
  {
   "cell_type": "markdown",
   "id": "93e5fb19",
   "metadata": {},
   "source": [
    "asdfasjdf\n"
   ]
  }
 ],
 "metadata": {
  "language_info": {
   "name": "python"
  }
 },
 "nbformat": 4,
 "nbformat_minor": 5
}
